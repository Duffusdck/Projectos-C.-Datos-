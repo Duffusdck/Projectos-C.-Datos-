{
  "nbformat": 4,
  "nbformat_minor": 0,
  "metadata": {
    "colab": {
      "provenance": [],
      "authorship_tag": "ABX9TyONAplRSXiAW68ei/fFkoo+",
      "include_colab_link": true
    },
    "kernelspec": {
      "name": "python3",
      "display_name": "Python 3"
    },
    "language_info": {
      "name": "python"
    }
  },
  "cells": [
    {
      "cell_type": "markdown",
      "metadata": {
        "id": "view-in-github",
        "colab_type": "text"
      },
      "source": [
        "<a href=\"https://colab.research.google.com/github/Duffusdck/Envm-Projecto/blob/main/EntornoVirtual.ipynb\" target=\"_parent\"><img src=\"https://colab.research.google.com/assets/colab-badge.svg\" alt=\"Open In Colab\"/></a>"
      ]
    },
    {
      "cell_type": "markdown",
      "source": [
        "#Entorno virtual\n"
      ],
      "metadata": {
        "id": "9Lp4cII8Smsy"
      }
    },
    {
      "cell_type": "markdown",
      "source": [
        "##Creacion requirements.txt"
      ],
      "metadata": {
        "id": "tpp9-AmXSuUL"
      }
    },
    {
      "cell_type": "markdown",
      "source": [
        "Primeramente se crea un archivo .txt donde se tendra una lista con todas las librerias y sus versiones para llevar un control adecuedo y evitar posibles fallas o conflictos entre librerias\n"
      ],
      "metadata": {
        "id": "jfu3KPn0SyTJ"
      }
    },
    {
      "cell_type": "markdown",
      "source": [
        "* pandas\n",
        "* numpy\n",
        "* scikit-learn\n",
        "* matplotlib\n",
        "* seaborn\n",
        "* plotly\n",
        "* bokeh\n",
        "* dash\n",
        "* openpyxl\n",
        "* statsmodels\n",
        "* altair\n",
        "\n",
        "Al no poner la version el propio entorno elige la version optima para trabajar, pero lo mejor es especificar la version a utilizar para evitar conflictos o ver que librerias tienen conflictos entre ellas"
      ],
      "metadata": {
        "id": "MObG9M3Flb9I"
      }
    },
    {
      "cell_type": "markdown",
      "source": [
        "##Configuracion entorno virtual"
      ],
      "metadata": {
        "id": "Fl6RttArTDV6"
      }
    },
    {
      "cell_type": "markdown",
      "source": [
        "Se instala virtualenv y se crea un entorno virtual con el nombre \"data_science_env\" en donde se guardaran las librerias las cuales no afectaran a el entorno global de python"
      ],
      "metadata": {
        "id": "TqE9jbq6TRTq"
      }
    },
    {
      "cell_type": "code",
      "execution_count": null,
      "metadata": {
        "colab": {
          "base_uri": "https://localhost:8080/"
        },
        "id": "UoNb43MbOYyp",
        "outputId": "9e50ee1c-4552-4ec0-abdc-5478606c15d5"
      },
      "outputs": [
        {
          "output_type": "stream",
          "name": "stdout",
          "text": [
            "Collecting virtualenv\n",
            "  Downloading virtualenv-20.35.3-py3-none-any.whl.metadata (4.6 kB)\n",
            "Collecting distlib<1,>=0.3.7 (from virtualenv)\n",
            "  Downloading distlib-0.4.0-py2.py3-none-any.whl.metadata (5.2 kB)\n",
            "Requirement already satisfied: filelock<4,>=3.12.2 in /usr/local/lib/python3.12/dist-packages (from virtualenv) (3.20.0)\n",
            "Requirement already satisfied: platformdirs<5,>=3.9.1 in /usr/local/lib/python3.12/dist-packages (from virtualenv) (4.5.0)\n",
            "Downloading virtualenv-20.35.3-py3-none-any.whl (6.0 MB)\n",
            "\u001b[2K   \u001b[90m━━━━━━━━━━━━━━━━━━━━━━━━━━━━━━━━━━━━━━━━\u001b[0m \u001b[32m6.0/6.0 MB\u001b[0m \u001b[31m48.4 MB/s\u001b[0m eta \u001b[36m0:00:00\u001b[0m\n",
            "\u001b[?25hDownloading distlib-0.4.0-py2.py3-none-any.whl (469 kB)\n",
            "\u001b[2K   \u001b[90m━━━━━━━━━━━━━━━━━━━━━━━━━━━━━━━━━━━━━━━━\u001b[0m \u001b[32m469.0/469.0 kB\u001b[0m \u001b[31m15.2 MB/s\u001b[0m eta \u001b[36m0:00:00\u001b[0m\n",
            "\u001b[?25hInstalling collected packages: distlib, virtualenv\n",
            "Successfully installed distlib-0.4.0 virtualenv-20.35.3\n",
            "created virtual environment CPython3.12.12.final.0-64 in 405ms\n",
            "  creator CPython3Posix(dest=/content/data_science_env, clear=False, no_vcs_ignore=False, global=False)\n",
            "  seeder FromAppData(download=False, pip=bundle, via=copy, app_data_dir=/root/.local/share/virtualenv)\n",
            "    added seed packages: pip==25.2\n",
            "  activators BashActivator,CShellActivator,FishActivator,NushellActivator,PowerShellActivator,PythonActivator\n"
          ]
        }
      ],
      "source": [
        "!pip install virtualenv\n",
        "!virtualenv data_science_env"
      ]
    },
    {
      "cell_type": "markdown",
      "source": [
        "Posteriormente se instalan las librerias que estan en el archivo requirements que se creo con anterioridad"
      ],
      "metadata": {
        "id": "nlXUHLWZTc-R"
      }
    },
    {
      "cell_type": "code",
      "source": [
        "!data_science_env/bin/pip install -r Requirements.txt"
      ],
      "metadata": {
        "colab": {
          "base_uri": "https://localhost:8080/"
        },
        "id": "bJcbC0zSPmzx",
        "outputId": "9f3aacea-d91e-46b9-c9dc-a73e6e4ccf43"
      },
      "execution_count": null,
      "outputs": [
        {
          "output_type": "stream",
          "name": "stdout",
          "text": [
            "Collecting pandas (from -r Requirements.txt (line 1))\n",
            "  Downloading pandas-2.3.3-cp312-cp312-manylinux_2_24_x86_64.manylinux_2_28_x86_64.whl.metadata (91 kB)\n",
            "Collecting numpy (from -r Requirements.txt (line 2))\n",
            "  Downloading numpy-2.3.4-cp312-cp312-manylinux_2_27_x86_64.manylinux_2_28_x86_64.whl.metadata (62 kB)\n",
            "Collecting scikit-learn (from -r Requirements.txt (line 3))\n",
            "  Downloading scikit_learn-1.7.2-cp312-cp312-manylinux2014_x86_64.manylinux_2_17_x86_64.whl.metadata (11 kB)\n",
            "Collecting matplotlib (from -r Requirements.txt (line 4))\n",
            "  Downloading matplotlib-3.10.7-cp312-cp312-manylinux2014_x86_64.manylinux_2_17_x86_64.whl.metadata (11 kB)\n",
            "Collecting seaborn (from -r Requirements.txt (line 5))\n",
            "  Downloading seaborn-0.13.2-py3-none-any.whl.metadata (5.4 kB)\n",
            "Collecting plotly (from -r Requirements.txt (line 6))\n",
            "  Downloading plotly-6.3.1-py3-none-any.whl.metadata (8.5 kB)\n",
            "Collecting bokeh (from -r Requirements.txt (line 7))\n",
            "  Downloading bokeh-3.8.0-py3-none-any.whl.metadata (10 kB)\n",
            "Collecting dash (from -r Requirements.txt (line 8))\n",
            "  Downloading dash-3.2.0-py3-none-any.whl.metadata (10 kB)\n",
            "Collecting openpyxl (from -r Requirements.txt (line 9))\n",
            "  Downloading openpyxl-3.1.5-py2.py3-none-any.whl.metadata (2.5 kB)\n",
            "Collecting statsmodels (from -r Requirements.txt (line 10))\n",
            "  Downloading statsmodels-0.14.5-cp312-cp312-manylinux2014_x86_64.manylinux_2_17_x86_64.manylinux_2_28_x86_64.whl.metadata (9.5 kB)\n",
            "Collecting altair (from -r Requirements.txt (line 11))\n",
            "  Downloading altair-5.5.0-py3-none-any.whl.metadata (11 kB)\n",
            "Collecting python-dateutil>=2.8.2 (from pandas->-r Requirements.txt (line 1))\n",
            "  Downloading python_dateutil-2.9.0.post0-py2.py3-none-any.whl.metadata (8.4 kB)\n",
            "Collecting pytz>=2020.1 (from pandas->-r Requirements.txt (line 1))\n",
            "  Downloading pytz-2025.2-py2.py3-none-any.whl.metadata (22 kB)\n",
            "Collecting tzdata>=2022.7 (from pandas->-r Requirements.txt (line 1))\n",
            "  Downloading tzdata-2025.2-py2.py3-none-any.whl.metadata (1.4 kB)\n",
            "Collecting scipy>=1.8.0 (from scikit-learn->-r Requirements.txt (line 3))\n",
            "  Downloading scipy-1.16.2-cp312-cp312-manylinux2014_x86_64.manylinux_2_17_x86_64.whl.metadata (62 kB)\n",
            "Collecting joblib>=1.2.0 (from scikit-learn->-r Requirements.txt (line 3))\n",
            "  Downloading joblib-1.5.2-py3-none-any.whl.metadata (5.6 kB)\n",
            "Collecting threadpoolctl>=3.1.0 (from scikit-learn->-r Requirements.txt (line 3))\n",
            "  Downloading threadpoolctl-3.6.0-py3-none-any.whl.metadata (13 kB)\n",
            "Collecting contourpy>=1.0.1 (from matplotlib->-r Requirements.txt (line 4))\n",
            "  Downloading contourpy-1.3.3-cp312-cp312-manylinux_2_27_x86_64.manylinux_2_28_x86_64.whl.metadata (5.5 kB)\n",
            "Collecting cycler>=0.10 (from matplotlib->-r Requirements.txt (line 4))\n",
            "  Downloading cycler-0.12.1-py3-none-any.whl.metadata (3.8 kB)\n",
            "Collecting fonttools>=4.22.0 (from matplotlib->-r Requirements.txt (line 4))\n",
            "  Downloading fonttools-4.60.1-cp312-cp312-manylinux1_x86_64.manylinux2014_x86_64.manylinux_2_17_x86_64.manylinux_2_5_x86_64.whl.metadata (112 kB)\n",
            "Collecting kiwisolver>=1.3.1 (from matplotlib->-r Requirements.txt (line 4))\n",
            "  Downloading kiwisolver-1.4.9-cp312-cp312-manylinux2014_x86_64.manylinux_2_17_x86_64.whl.metadata (6.3 kB)\n",
            "Collecting packaging>=20.0 (from matplotlib->-r Requirements.txt (line 4))\n",
            "  Downloading packaging-25.0-py3-none-any.whl.metadata (3.3 kB)\n",
            "Collecting pillow>=8 (from matplotlib->-r Requirements.txt (line 4))\n",
            "  Downloading pillow-12.0.0-cp312-cp312-manylinux_2_27_x86_64.manylinux_2_28_x86_64.whl.metadata (8.8 kB)\n",
            "Collecting pyparsing>=3 (from matplotlib->-r Requirements.txt (line 4))\n",
            "  Downloading pyparsing-3.2.5-py3-none-any.whl.metadata (5.0 kB)\n",
            "Collecting narwhals>=1.15.1 (from plotly->-r Requirements.txt (line 6))\n",
            "  Downloading narwhals-2.9.0-py3-none-any.whl.metadata (11 kB)\n",
            "Collecting Jinja2>=2.9 (from bokeh->-r Requirements.txt (line 7))\n",
            "  Downloading jinja2-3.1.6-py3-none-any.whl.metadata (2.9 kB)\n",
            "Collecting PyYAML>=3.10 (from bokeh->-r Requirements.txt (line 7))\n",
            "  Downloading pyyaml-6.0.3-cp312-cp312-manylinux2014_x86_64.manylinux_2_17_x86_64.manylinux_2_28_x86_64.whl.metadata (2.4 kB)\n",
            "Collecting tornado>=6.2 (from bokeh->-r Requirements.txt (line 7))\n",
            "  Downloading tornado-6.5.2-cp39-abi3-manylinux_2_5_x86_64.manylinux1_x86_64.manylinux_2_17_x86_64.manylinux2014_x86_64.whl.metadata (2.8 kB)\n",
            "Collecting xyzservices>=2021.09.1 (from bokeh->-r Requirements.txt (line 7))\n",
            "  Downloading xyzservices-2025.4.0-py3-none-any.whl.metadata (4.3 kB)\n",
            "Collecting Flask<3.2,>=1.0.4 (from dash->-r Requirements.txt (line 8))\n",
            "  Downloading flask-3.1.2-py3-none-any.whl.metadata (3.2 kB)\n",
            "Collecting Werkzeug<3.2 (from dash->-r Requirements.txt (line 8))\n",
            "  Downloading werkzeug-3.1.3-py3-none-any.whl.metadata (3.7 kB)\n",
            "Collecting importlib-metadata (from dash->-r Requirements.txt (line 8))\n",
            "  Downloading importlib_metadata-8.7.0-py3-none-any.whl.metadata (4.8 kB)\n",
            "Collecting typing-extensions>=4.1.1 (from dash->-r Requirements.txt (line 8))\n",
            "  Downloading typing_extensions-4.15.0-py3-none-any.whl.metadata (3.3 kB)\n",
            "Collecting requests (from dash->-r Requirements.txt (line 8))\n",
            "  Downloading requests-2.32.5-py3-none-any.whl.metadata (4.9 kB)\n",
            "Collecting retrying (from dash->-r Requirements.txt (line 8))\n",
            "  Downloading retrying-1.4.2-py3-none-any.whl.metadata (5.5 kB)\n",
            "Collecting nest-asyncio (from dash->-r Requirements.txt (line 8))\n",
            "  Downloading nest_asyncio-1.6.0-py3-none-any.whl.metadata (2.8 kB)\n",
            "Collecting setuptools (from dash->-r Requirements.txt (line 8))\n",
            "  Downloading setuptools-80.9.0-py3-none-any.whl.metadata (6.6 kB)\n",
            "Collecting blinker>=1.9.0 (from Flask<3.2,>=1.0.4->dash->-r Requirements.txt (line 8))\n",
            "  Downloading blinker-1.9.0-py3-none-any.whl.metadata (1.6 kB)\n",
            "Collecting click>=8.1.3 (from Flask<3.2,>=1.0.4->dash->-r Requirements.txt (line 8))\n",
            "  Downloading click-8.3.0-py3-none-any.whl.metadata (2.6 kB)\n",
            "Collecting itsdangerous>=2.2.0 (from Flask<3.2,>=1.0.4->dash->-r Requirements.txt (line 8))\n",
            "  Downloading itsdangerous-2.2.0-py3-none-any.whl.metadata (1.9 kB)\n",
            "Collecting markupsafe>=2.1.1 (from Flask<3.2,>=1.0.4->dash->-r Requirements.txt (line 8))\n",
            "  Downloading markupsafe-3.0.3-cp312-cp312-manylinux2014_x86_64.manylinux_2_17_x86_64.manylinux_2_28_x86_64.whl.metadata (2.7 kB)\n",
            "Collecting et-xmlfile (from openpyxl->-r Requirements.txt (line 9))\n",
            "  Downloading et_xmlfile-2.0.0-py3-none-any.whl.metadata (2.7 kB)\n",
            "Collecting patsy>=0.5.6 (from statsmodels->-r Requirements.txt (line 10))\n",
            "  Downloading patsy-1.0.2-py2.py3-none-any.whl.metadata (3.6 kB)\n",
            "Collecting jsonschema>=3.0 (from altair->-r Requirements.txt (line 11))\n",
            "  Downloading jsonschema-4.25.1-py3-none-any.whl.metadata (7.6 kB)\n",
            "Collecting attrs>=22.2.0 (from jsonschema>=3.0->altair->-r Requirements.txt (line 11))\n",
            "  Downloading attrs-25.4.0-py3-none-any.whl.metadata (10 kB)\n",
            "Collecting jsonschema-specifications>=2023.03.6 (from jsonschema>=3.0->altair->-r Requirements.txt (line 11))\n",
            "  Downloading jsonschema_specifications-2025.9.1-py3-none-any.whl.metadata (2.9 kB)\n",
            "Collecting referencing>=0.28.4 (from jsonschema>=3.0->altair->-r Requirements.txt (line 11))\n",
            "  Downloading referencing-0.37.0-py3-none-any.whl.metadata (2.8 kB)\n",
            "Collecting rpds-py>=0.7.1 (from jsonschema>=3.0->altair->-r Requirements.txt (line 11))\n",
            "  Downloading rpds_py-0.28.0-cp312-cp312-manylinux_2_17_x86_64.manylinux2014_x86_64.whl.metadata (4.1 kB)\n",
            "Collecting six>=1.5 (from python-dateutil>=2.8.2->pandas->-r Requirements.txt (line 1))\n",
            "  Downloading six-1.17.0-py2.py3-none-any.whl.metadata (1.7 kB)\n",
            "Collecting zipp>=3.20 (from importlib-metadata->dash->-r Requirements.txt (line 8))\n",
            "  Downloading zipp-3.23.0-py3-none-any.whl.metadata (3.6 kB)\n",
            "Collecting charset_normalizer<4,>=2 (from requests->dash->-r Requirements.txt (line 8))\n",
            "  Downloading charset_normalizer-3.4.4-cp312-cp312-manylinux2014_x86_64.manylinux_2_17_x86_64.manylinux_2_28_x86_64.whl.metadata (37 kB)\n",
            "Collecting idna<4,>=2.5 (from requests->dash->-r Requirements.txt (line 8))\n",
            "  Downloading idna-3.11-py3-none-any.whl.metadata (8.4 kB)\n",
            "Collecting urllib3<3,>=1.21.1 (from requests->dash->-r Requirements.txt (line 8))\n",
            "  Downloading urllib3-2.5.0-py3-none-any.whl.metadata (6.5 kB)\n",
            "Collecting certifi>=2017.4.17 (from requests->dash->-r Requirements.txt (line 8))\n",
            "  Downloading certifi-2025.10.5-py3-none-any.whl.metadata (2.5 kB)\n",
            "Downloading pandas-2.3.3-cp312-cp312-manylinux_2_24_x86_64.manylinux_2_28_x86_64.whl (12.4 MB)\n",
            "\u001b[2K   \u001b[90m━━━━━━━━━━━━━━━━━━━━━━━━━━━━━━━━━━━━━━━━\u001b[0m \u001b[32m12.4/12.4 MB\u001b[0m \u001b[31m170.0 MB/s\u001b[0m  \u001b[33m0:00:00\u001b[0m\n",
            "\u001b[?25hDownloading numpy-2.3.4-cp312-cp312-manylinux_2_27_x86_64.manylinux_2_28_x86_64.whl (16.6 MB)\n",
            "\u001b[2K   \u001b[90m━━━━━━━━━━━━━━━━━━━━━━━━━━━━━━━━━━━━━━━━\u001b[0m \u001b[32m16.6/16.6 MB\u001b[0m \u001b[31m124.2 MB/s\u001b[0m  \u001b[33m0:00:00\u001b[0m\n",
            "\u001b[?25hDownloading scikit_learn-1.7.2-cp312-cp312-manylinux2014_x86_64.manylinux_2_17_x86_64.whl (9.5 MB)\n",
            "\u001b[2K   \u001b[90m━━━━━━━━━━━━━━━━━━━━━━━━━━━━━━━━━━━━━━━━\u001b[0m \u001b[32m9.5/9.5 MB\u001b[0m \u001b[31m55.4 MB/s\u001b[0m  \u001b[33m0:00:00\u001b[0m\n",
            "\u001b[?25hDownloading matplotlib-3.10.7-cp312-cp312-manylinux2014_x86_64.manylinux_2_17_x86_64.whl (8.7 MB)\n",
            "\u001b[2K   \u001b[90m━━━━━━━━━━━━━━━━━━━━━━━━━━━━━━━━━━━━━━━━\u001b[0m \u001b[32m8.7/8.7 MB\u001b[0m \u001b[31m87.8 MB/s\u001b[0m  \u001b[33m0:00:00\u001b[0m\n",
            "\u001b[?25hDownloading seaborn-0.13.2-py3-none-any.whl (294 kB)\n",
            "Downloading plotly-6.3.1-py3-none-any.whl (9.8 MB)\n",
            "\u001b[2K   \u001b[90m━━━━━━━━━━━━━━━━━━━━━━━━━━━━━━━━━━━━━━━━\u001b[0m \u001b[32m9.8/9.8 MB\u001b[0m \u001b[31m95.9 MB/s\u001b[0m  \u001b[33m0:00:00\u001b[0m\n",
            "\u001b[?25hDownloading bokeh-3.8.0-py3-none-any.whl (7.2 MB)\n",
            "\u001b[2K   \u001b[90m━━━━━━━━━━━━━━━━━━━━━━━━━━━━━━━━━━━━━━━━\u001b[0m \u001b[32m7.2/7.2 MB\u001b[0m \u001b[31m51.1 MB/s\u001b[0m  \u001b[33m0:00:00\u001b[0m\n",
            "\u001b[?25hDownloading dash-3.2.0-py3-none-any.whl (7.9 MB)\n",
            "\u001b[2K   \u001b[90m━━━━━━━━━━━━━━━━━━━━━━━━━━━━━━━━━━━━━━━━\u001b[0m \u001b[32m7.9/7.9 MB\u001b[0m \u001b[31m75.6 MB/s\u001b[0m  \u001b[33m0:00:00\u001b[0m\n",
            "\u001b[?25hDownloading flask-3.1.2-py3-none-any.whl (103 kB)\n",
            "Downloading werkzeug-3.1.3-py3-none-any.whl (224 kB)\n",
            "Downloading openpyxl-3.1.5-py2.py3-none-any.whl (250 kB)\n",
            "Downloading statsmodels-0.14.5-cp312-cp312-manylinux2014_x86_64.manylinux_2_17_x86_64.manylinux_2_28_x86_64.whl (10.4 MB)\n",
            "\u001b[2K   \u001b[90m━━━━━━━━━━━━━━━━━━━━━━━━━━━━━━━━━━━━━━━━\u001b[0m \u001b[32m10.4/10.4 MB\u001b[0m \u001b[31m89.4 MB/s\u001b[0m  \u001b[33m0:00:00\u001b[0m\n",
            "\u001b[?25hDownloading altair-5.5.0-py3-none-any.whl (731 kB)\n",
            "\u001b[2K   \u001b[90m━━━━━━━━━━━━━━━━━━━━━━━━━━━━━━━━━━━━━━━━\u001b[0m \u001b[32m731.2/731.2 kB\u001b[0m \u001b[31m15.5 MB/s\u001b[0m  \u001b[33m0:00:00\u001b[0m\n",
            "\u001b[?25hDownloading blinker-1.9.0-py3-none-any.whl (8.5 kB)\n",
            "Downloading click-8.3.0-py3-none-any.whl (107 kB)\n",
            "Downloading contourpy-1.3.3-cp312-cp312-manylinux_2_27_x86_64.manylinux_2_28_x86_64.whl (362 kB)\n",
            "Downloading cycler-0.12.1-py3-none-any.whl (8.3 kB)\n",
            "Downloading fonttools-4.60.1-cp312-cp312-manylinux1_x86_64.manylinux2014_x86_64.manylinux_2_17_x86_64.manylinux_2_5_x86_64.whl (4.9 MB)\n",
            "\u001b[2K   \u001b[90m━━━━━━━━━━━━━━━━━━━━━━━━━━━━━━━━━━━━━━━━\u001b[0m \u001b[32m4.9/4.9 MB\u001b[0m \u001b[31m84.5 MB/s\u001b[0m  \u001b[33m0:00:00\u001b[0m\n",
            "\u001b[?25hDownloading itsdangerous-2.2.0-py3-none-any.whl (16 kB)\n",
            "Downloading jinja2-3.1.6-py3-none-any.whl (134 kB)\n",
            "Downloading joblib-1.5.2-py3-none-any.whl (308 kB)\n",
            "Downloading jsonschema-4.25.1-py3-none-any.whl (90 kB)\n",
            "Downloading attrs-25.4.0-py3-none-any.whl (67 kB)\n",
            "Downloading jsonschema_specifications-2025.9.1-py3-none-any.whl (18 kB)\n",
            "Downloading kiwisolver-1.4.9-cp312-cp312-manylinux2014_x86_64.manylinux_2_17_x86_64.whl (1.5 MB)\n",
            "\u001b[2K   \u001b[90m━━━━━━━━━━━━━━━━━━━━━━━━━━━━━━━━━━━━━━━━\u001b[0m \u001b[32m1.5/1.5 MB\u001b[0m \u001b[31m48.0 MB/s\u001b[0m  \u001b[33m0:00:00\u001b[0m\n",
            "\u001b[?25hDownloading markupsafe-3.0.3-cp312-cp312-manylinux2014_x86_64.manylinux_2_17_x86_64.manylinux_2_28_x86_64.whl (22 kB)\n",
            "Downloading narwhals-2.9.0-py3-none-any.whl (422 kB)\n",
            "Downloading packaging-25.0-py3-none-any.whl (66 kB)\n",
            "Downloading patsy-1.0.2-py2.py3-none-any.whl (233 kB)\n",
            "Downloading pillow-12.0.0-cp312-cp312-manylinux_2_27_x86_64.manylinux_2_28_x86_64.whl (7.0 MB)\n",
            "\u001b[2K   \u001b[90m━━━━━━━━━━━━━━━━━━━━━━━━━━━━━━━━━━━━━━━━\u001b[0m \u001b[32m7.0/7.0 MB\u001b[0m \u001b[31m80.6 MB/s\u001b[0m  \u001b[33m0:00:00\u001b[0m\n",
            "\u001b[?25hDownloading pyparsing-3.2.5-py3-none-any.whl (113 kB)\n",
            "Downloading python_dateutil-2.9.0.post0-py2.py3-none-any.whl (229 kB)\n",
            "Downloading pytz-2025.2-py2.py3-none-any.whl (509 kB)\n",
            "Downloading pyyaml-6.0.3-cp312-cp312-manylinux2014_x86_64.manylinux_2_17_x86_64.manylinux_2_28_x86_64.whl (807 kB)\n",
            "\u001b[2K   \u001b[90m━━━━━━━━━━━━━━━━━━━━━━━━━━━━━━━━━━━━━━━━\u001b[0m \u001b[32m807.9/807.9 kB\u001b[0m \u001b[31m19.6 MB/s\u001b[0m  \u001b[33m0:00:00\u001b[0m\n",
            "\u001b[?25hDownloading referencing-0.37.0-py3-none-any.whl (26 kB)\n",
            "Downloading rpds_py-0.28.0-cp312-cp312-manylinux_2_17_x86_64.manylinux2014_x86_64.whl (386 kB)\n",
            "Downloading scipy-1.16.2-cp312-cp312-manylinux2014_x86_64.manylinux_2_17_x86_64.whl (35.7 MB)\n",
            "\u001b[2K   \u001b[90m━━━━━━━━━━━━━━━━━━━━━━━━━━━━━━━━━━━━━━━━\u001b[0m \u001b[32m35.7/35.7 MB\u001b[0m \u001b[31m33.0 MB/s\u001b[0m  \u001b[33m0:00:01\u001b[0m\n",
            "\u001b[?25hDownloading six-1.17.0-py2.py3-none-any.whl (11 kB)\n",
            "Downloading threadpoolctl-3.6.0-py3-none-any.whl (18 kB)\n",
            "Downloading tornado-6.5.2-cp39-abi3-manylinux_2_5_x86_64.manylinux1_x86_64.manylinux_2_17_x86_64.manylinux2014_x86_64.whl (443 kB)\n",
            "Downloading typing_extensions-4.15.0-py3-none-any.whl (44 kB)\n",
            "Downloading tzdata-2025.2-py2.py3-none-any.whl (347 kB)\n",
            "Downloading xyzservices-2025.4.0-py3-none-any.whl (90 kB)\n",
            "Downloading et_xmlfile-2.0.0-py3-none-any.whl (18 kB)\n",
            "Downloading importlib_metadata-8.7.0-py3-none-any.whl (27 kB)\n",
            "Downloading zipp-3.23.0-py3-none-any.whl (10 kB)\n",
            "Downloading nest_asyncio-1.6.0-py3-none-any.whl (5.2 kB)\n",
            "Downloading requests-2.32.5-py3-none-any.whl (64 kB)\n",
            "Downloading charset_normalizer-3.4.4-cp312-cp312-manylinux2014_x86_64.manylinux_2_17_x86_64.manylinux_2_28_x86_64.whl (153 kB)\n",
            "Downloading idna-3.11-py3-none-any.whl (71 kB)\n",
            "Downloading urllib3-2.5.0-py3-none-any.whl (129 kB)\n",
            "Downloading certifi-2025.10.5-py3-none-any.whl (163 kB)\n",
            "Downloading retrying-1.4.2-py3-none-any.whl (10 kB)\n",
            "Downloading setuptools-80.9.0-py3-none-any.whl (1.2 MB)\n",
            "\u001b[2K   \u001b[90m━━━━━━━━━━━━━━━━━━━━━━━━━━━━━━━━━━━━━━━━\u001b[0m \u001b[32m1.2/1.2 MB\u001b[0m \u001b[31m30.5 MB/s\u001b[0m  \u001b[33m0:00:00\u001b[0m\n",
            "\u001b[?25hInstalling collected packages: pytz, zipp, xyzservices, urllib3, tzdata, typing-extensions, tornado, threadpoolctl, six, setuptools, rpds-py, retrying, PyYAML, pyparsing, pillow, packaging, numpy, nest-asyncio, narwhals, markupsafe, kiwisolver, joblib, itsdangerous, idna, fonttools, et-xmlfile, cycler, click, charset_normalizer, certifi, blinker, attrs, Werkzeug, scipy, requests, referencing, python-dateutil, plotly, patsy, openpyxl, Jinja2, importlib-metadata, contourpy, scikit-learn, pandas, matplotlib, jsonschema-specifications, Flask, statsmodels, seaborn, jsonschema, dash, bokeh, altair\n",
            "\u001b[2K   \u001b[90m━━━━━━━━━━━━━━━━━━━━━━━━━━━━━━━━━━━━━━━━\u001b[0m \u001b[32m54/54\u001b[0m [altair]\n",
            "\u001b[1A\u001b[2KSuccessfully installed Flask-3.1.2 Jinja2-3.1.6 PyYAML-6.0.3 Werkzeug-3.1.3 altair-5.5.0 attrs-25.4.0 blinker-1.9.0 bokeh-3.8.0 certifi-2025.10.5 charset_normalizer-3.4.4 click-8.3.0 contourpy-1.3.3 cycler-0.12.1 dash-3.2.0 et-xmlfile-2.0.0 fonttools-4.60.1 idna-3.11 importlib-metadata-8.7.0 itsdangerous-2.2.0 joblib-1.5.2 jsonschema-4.25.1 jsonschema-specifications-2025.9.1 kiwisolver-1.4.9 markupsafe-3.0.3 matplotlib-3.10.7 narwhals-2.9.0 nest-asyncio-1.6.0 numpy-2.3.4 openpyxl-3.1.5 packaging-25.0 pandas-2.3.3 patsy-1.0.2 pillow-12.0.0 plotly-6.3.1 pyparsing-3.2.5 python-dateutil-2.9.0.post0 pytz-2025.2 referencing-0.37.0 requests-2.32.5 retrying-1.4.2 rpds-py-0.28.0 scikit-learn-1.7.2 scipy-1.16.2 seaborn-0.13.2 setuptools-80.9.0 six-1.17.0 statsmodels-0.14.5 threadpoolctl-3.6.0 tornado-6.5.2 typing-extensions-4.15.0 tzdata-2025.2 urllib3-2.5.0 xyzservices-2025.4.0 zipp-3.23.0\n"
          ]
        }
      ]
    },
    {
      "cell_type": "markdown",
      "source": [
        "Por ultimo se conecta el entorno virtual a colab"
      ],
      "metadata": {
        "id": "mSiDo09STtf7"
      }
    },
    {
      "cell_type": "code",
      "source": [
        "import sys\n",
        "venv_path = '/content/data_science_env/lib/python3.12/site-packages'\n",
        "sys.path.insert(1, venv_path)"
      ],
      "metadata": {
        "id": "_mBDb0FvQDVZ"
      },
      "execution_count": null,
      "outputs": []
    },
    {
      "cell_type": "markdown",
      "source": [
        "De modo opcional se puede verificar la correcta conexion del entorno virutal llamando a una de las librerias que se instalaron"
      ],
      "metadata": {
        "id": "c8KOUtbtUH3y"
      }
    },
    {
      "cell_type": "code",
      "source": [
        "import pandas\n",
        "# La ruta impresa debe apuntar al directorio del venv\n",
        "print(pandas.__file__)"
      ],
      "metadata": {
        "colab": {
          "base_uri": "https://localhost:8080/"
        },
        "id": "blj-XgERQIeR",
        "outputId": "6241e03a-8dbc-4a2a-fd6b-1aa595b4b4cf"
      },
      "execution_count": null,
      "outputs": [
        {
          "output_type": "stream",
          "name": "stdout",
          "text": [
            "/content/data_science_env/lib/python3.12/site-packages/pandas/__init__.py\n"
          ]
        }
      ]
    },
    {
      "cell_type": "markdown",
      "source": [
        "###Desconectar el entorno (opcional)"
      ],
      "metadata": {
        "id": "KW-rlmheUOIM"
      }
    },
    {
      "cell_type": "code",
      "source": [
        "import sys\n",
        "venv_path = '/content/data_science_env/lib/python3.10/site-packages'\n",
        "\n",
        "# Comprobar si la ruta esté en sys.path antes de intentar eliminarla\n",
        "if venv_path in sys.path:\n",
        "    sys.path.remove(venv_path)\n",
        "    print(f\"Ruta {venv_path} eliminada de sys.path.\")\n",
        "    print(\"El kernel ahora usará los paquetes del entorno base de Colab.\")\n",
        "else:\n",
        "    print(\"La ruta del entorno virtual no se encontró en sys.path.\")\n"
      ],
      "metadata": {
        "colab": {
          "base_uri": "https://localhost:8080/"
        },
        "id": "6okypYyLXMGh",
        "outputId": "b93706af-eaed-484e-f3eb-1f6f2b25e86a"
      },
      "execution_count": null,
      "outputs": [
        {
          "output_type": "stream",
          "name": "stdout",
          "text": [
            "La ruta del entorno virtual no se encontró en sys.path.\n"
          ]
        }
      ]
    },
    {
      "cell_type": "markdown",
      "source": [
        "##Verificacion Universal"
      ],
      "metadata": {
        "id": "aPoDQ20bXzhB"
      }
    },
    {
      "cell_type": "code",
      "source": [
        "import pandas as pd\n",
        "import numpy as np\n",
        "import matplotlib.pyplot as plt\n",
        "import seaborn as sns\n",
        "import plotly.express as px\n",
        "import bokeh\n",
        "import dash\n",
        "\n",
        "print(\"Confirmaci´on: Todas las bibliotecas se importaron correctamente.\")\n",
        "\n",
        "# Verificaci´on adicional para Colab para confirmar la ruta\n",
        "if 'google.colab' in sys.modules:\n",
        "  print(f\"\\nVerificando ruta de Pandas en Colab...\")\n",
        "  print(pandas.__file__)\n"
      ],
      "metadata": {
        "colab": {
          "base_uri": "https://localhost:8080/"
        },
        "id": "wmDZ5kALQM-Y",
        "outputId": "3dfb615f-f3e8-4f5f-be4c-0f56b53f43ac"
      },
      "execution_count": null,
      "outputs": [
        {
          "output_type": "stream",
          "name": "stdout",
          "text": [
            "Confirmaci´on: Todas las bibliotecas se importaron correctamente.\n",
            "\n",
            "Verificando ruta de Pandas en Colab...\n",
            "/content/data_science_env/lib/python3.12/site-packages/pandas/__init__.py\n"
          ]
        }
      ]
    },
    {
      "cell_type": "markdown",
      "source": [
        "##Aplicacion Practica"
      ],
      "metadata": {
        "id": "RaW4Gc87X4fg"
      }
    },
    {
      "cell_type": "markdown",
      "source": [
        "Se usa la URL del repositorio UXI y se lee con ayuda de pandas.read_excel"
      ],
      "metadata": {
        "id": "wTrqBCPaEwHU"
      }
    },
    {
      "cell_type": "code",
      "source": [
        "import pandas as pd\n",
        "\n",
        "# URL del conjunto de datos \"Online Retail\" del repositorio UCI\n",
        "url = \"https://archive.ics.uci.edu/ml/machine-learning-databases/00352/Online%20Retail.xlsx\"\n",
        "\n",
        "# Se usa read_excel ya que la fuente es un archivo Excel\n",
        "data = pd.read_excel(url)\n",
        "\n",
        "print(data.head())"
      ],
      "metadata": {
        "id": "JcTVtzH4QzVA"
      },
      "execution_count": null,
      "outputs": []
    },
    {
      "cell_type": "markdown",
      "source": [
        "Aca se crea un fraim con ayuda de matplotlib donde se pueden ver los valores de manera grafica."
      ],
      "metadata": {
        "id": "MTaX88mhTSzx"
      }
    },
    {
      "cell_type": "code",
      "source": [
        "import matplotlib.pyplot as plt\n",
        "import seaborn as sns\n",
        "\n",
        "print(\"Valores faltantes por columna:\\n\", data.isnull().sum())\n",
        "print(\"\\nEstadísticas descriptivas:\\n\", data.describe())\n",
        "\n",
        "data = data.dropna(subset=['CustomerID']) # Paso adicional: eliminar filas sin cliente\n",
        "data = data[data['Quantity'] > 0]\n",
        "\n",
        "plt.figure(figsize=(10, 8))\n",
        "sns.countplot(y='Country', data=data, order=data['Country'].value_counts().index[:15])\n",
        "plt.title('Top 15 de Países por Número de Transacciones')\n",
        "plt.xlabel('Número de Transacciones')\n",
        "plt.ylabel('País')\n",
        "plt.show()\n"
      ],
      "metadata": {
        "colab": {
          "base_uri": "https://localhost:8080/",
          "height": 1000
        },
        "id": "vLAHzHuUSDgL",
        "outputId": "13270210-42d1-41b4-a0ed-84b563b96b58"
      },
      "execution_count": null,
      "outputs": [
        {
          "output_type": "stream",
          "name": "stdout",
          "text": [
            "Valores faltantes por columna:\n",
            " InvoiceNo           0\n",
            "StockCode           0\n",
            "Description      1454\n",
            "Quantity            0\n",
            "InvoiceDate         0\n",
            "UnitPrice           0\n",
            "CustomerID     135080\n",
            "Country             0\n",
            "dtype: int64\n",
            "\n",
            "Estadísticas descriptivas:\n",
            "             Quantity                    InvoiceDate      UnitPrice  \\\n",
            "count  541909.000000                         541909  541909.000000   \n",
            "mean        9.552250  2011-07-04 13:34:57.156386048       4.611114   \n",
            "min    -80995.000000            2010-12-01 08:26:00  -11062.060000   \n",
            "25%         1.000000            2011-03-28 11:34:00       1.250000   \n",
            "50%         3.000000            2011-07-19 17:17:00       2.080000   \n",
            "75%        10.000000            2011-10-19 11:27:00       4.130000   \n",
            "max     80995.000000            2011-12-09 12:50:00   38970.000000   \n",
            "std       218.081158                            NaN      96.759853   \n",
            "\n",
            "          CustomerID  \n",
            "count  406829.000000  \n",
            "mean    15287.690570  \n",
            "min     12346.000000  \n",
            "25%     13953.000000  \n",
            "50%     15152.000000  \n",
            "75%     16791.000000  \n",
            "max     18287.000000  \n",
            "std      1713.600303  \n"
          ]
        },
        {
          "output_type": "display_data",
          "data": {
            "text/plain": [
              "<Figure size 1000x800 with 1 Axes>"
            ],
            "image/png": "[encoded data removed]"
          },
          "metadata": {}
        }
      ]
    }
  ]
}